{
 "cells": [
  {
   "cell_type": "code",
   "execution_count": 79,
   "id": "fa0c04ae-98f0-419c-8d76-543b89f520e7",
   "metadata": {},
   "outputs": [],
   "source": [
    "#Define and Import the csv data \n",
    "import csv as csv\n",
    "from pathlib import Path\n",
    "budget_data_csv = Path(\"Resources/budget_data.csv\")\n",
    "\n",
    "Date = []\n",
    "ProfitLosses = []\n",
    "\n",
    "with open(budget_data_csv) as budget_data:\n",
    "    budget_data_reader =  csv.reader(budget_data)\n",
    "    header = next(budget_data_reader)\n",
    "    for row in budget_data_reader:\n",
    "        Date.append(row[0])\n",
    "        ProfitLosses.append(int(row[1]))"
   ]
  },
  {
   "cell_type": "code",
   "execution_count": 80,
   "id": "19bf1c71-8b67-4aff-8a16-d139cde1fdb6",
   "metadata": {},
   "outputs": [
    {
     "name": "stdout",
     "output_type": "stream",
     "text": [
      "86 is the total number of months included in the dataset\n"
     ]
    }
   ],
   "source": [
    "#The total number of months included in the dataset \n",
    "months = len(Date)\n",
    "print(f\"{months} is the total number of months included in the dataset\")"
   ]
  },
  {
   "cell_type": "code",
   "execution_count": 51,
   "id": "f753c84d-525c-4b1c-9439-f68abccbf187",
   "metadata": {},
   "outputs": [
    {
     "name": "stdout",
     "output_type": "stream",
     "text": [
      "The next total amount of Profit/Losses over the entire period is $38382578\n"
     ]
    }
   ],
   "source": [
    "#The net total amount of Profit/Losses over the entire period\n",
    "x = sum(ProfitLosses)\n",
    "print(f\"The next total amount of Profit/Losses over the entire period is ${x}\")"
   ]
  },
  {
   "cell_type": "code",
   "execution_count": 53,
   "id": "129b76fc-e620-4ea2-825e-9f9cc92cb25d",
   "metadata": {},
   "outputs": [
    {
     "name": "stdout",
     "output_type": "stream",
     "text": [
      "-2315.12 is the average of the changes in Profit/Losses for the entire period\n"
     ]
    }
   ],
   "source": [
    "#The average of the changes in Profit/Losses over the entire period\n",
    "change_diff = []\n",
    "\n",
    "for values in ProfitLosses: \n",
    "    if values == ProfitLosses[0]:\n",
    "        value_1 = values\n",
    "    elif values:\n",
    "        value_2 = values\n",
    "        difference = value_2 - value_1\n",
    "        change_diff.append(difference)\n",
    "        value_1 = value_2\n",
    "\n",
    "average =  sum(change_diff) / len(change_diff)\n",
    "print(f\"{round(average,2)} is the average of the changes in Profit/Losses for the entire period\")"
   ]
  },
  {
   "cell_type": "code",
   "execution_count": 60,
   "id": "b04a42d5-d697-4320-b10a-1eca0d07cd20",
   "metadata": {},
   "outputs": [
    {
     "name": "stdout",
     "output_type": "stream",
     "text": [
      "The greatest increase in profits was 1926159 on Feb-2012\n"
     ]
    }
   ],
   "source": [
    "#The greatest increase in profits (date and amount) over the entire period\n",
    "maximum = max(change_diff)\n",
    "index_max = change_diff.index(maximum)\n",
    "Date_max = Date[index_max + 1]\n",
    "\n",
    "print(f\"The greatest increase in profits was {maximum} on {Date_max}\")\n"
   ]
  },
  {
   "cell_type": "code",
   "execution_count": 61,
   "id": "dd579deb-f5f5-4770-822b-66b2a3a0488b",
   "metadata": {},
   "outputs": [
    {
     "name": "stdout",
     "output_type": "stream",
     "text": [
      "The greatest decrease in profits was -2196167 on Sep-2013\n"
     ]
    }
   ],
   "source": [
    "#The greatest decrease in losses(date and amount) over the entire period\n",
    "minimum = min(change_diff)\n",
    "index_min = change_diff.index(minimum)\n",
    "Date_min = Date[index_min + 1]\n",
    "\n",
    "print(f\"The greatest decrease in profits was {minimum} on {Date_min}\")\n",
    "\n"
   ]
  },
  {
   "cell_type": "code",
   "execution_count": 77,
   "id": "fa2e92aa-9790-4c0a-9a7f-2da12889fb5e",
   "metadata": {},
   "outputs": [],
   "source": [
    "with open(\"Challenge_2_Summary.txt\",\"w\") as output: \n",
    "    output.write(\"PyBank Homework \\n\")\n",
    "    output.write(f\"{months} is the total number of months included in the dataset \\n\")\n",
    "    output.write(f\"The next total amount of Profit/Losses over the entire period is ${x} \\n\")\n",
    "    output.write(f\"{round(average,2)} is the average of the changes in Profit/Losses for the entire period \\n\")\n",
    "    output.write(f\"The greatest increase in profits was {maximum} on {Date_max} \\n\")\n",
    "    output.write(f\"The greatest decrease in profits was {minimum} on {Date_min} \\n\")\n",
    "    \n",
    "    "
   ]
  },
  {
   "cell_type": "code",
   "execution_count": null,
   "id": "46d2b847-eefb-453a-aa52-060f77ea4558",
   "metadata": {},
   "outputs": [],
   "source": []
  }
 ],
 "metadata": {
  "kernelspec": {
   "display_name": "Python 3 (ipykernel)",
   "language": "python",
   "name": "python3"
  },
  "language_info": {
   "codemirror_mode": {
    "name": "ipython",
    "version": 3
   },
   "file_extension": ".py",
   "mimetype": "text/x-python",
   "name": "python",
   "nbconvert_exporter": "python",
   "pygments_lexer": "ipython3",
   "version": "3.11.5"
  }
 },
 "nbformat": 4,
 "nbformat_minor": 5
}
